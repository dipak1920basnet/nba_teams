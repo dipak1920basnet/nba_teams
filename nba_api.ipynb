{
 "cells": [
  {
   "cell_type": "code",
   "execution_count": 1,
   "id": "d265bae5",
   "metadata": {},
   "outputs": [
    {
     "name": "stdout",
     "output_type": "stream",
     "text": [
      "Requirement already satisfied: nba_api in c:\\users\\dipak\\.conda\\envs\\env2\\lib\\site-packages (1.10.0)\n",
      "Requirement already satisfied: numpy>=1.26.0 in c:\\users\\dipak\\.conda\\envs\\env2\\lib\\site-packages (from nba_api) (1.26.4)\n",
      "Requirement already satisfied: pandas>=2.2.0 in c:\\users\\dipak\\.conda\\envs\\env2\\lib\\site-packages (from nba_api) (2.2.1)\n",
      "Requirement already satisfied: requests<3.0.0,>=2.32.3 in c:\\users\\dipak\\.conda\\envs\\env2\\lib\\site-packages (from nba_api) (2.32.3)\n",
      "Requirement already satisfied: python-dateutil>=2.8.2 in c:\\users\\dipak\\.conda\\envs\\env2\\lib\\site-packages (from pandas>=2.2.0->nba_api) (2.9.0.post0)\n",
      "Requirement already satisfied: pytz>=2020.1 in c:\\users\\dipak\\.conda\\envs\\env2\\lib\\site-packages (from pandas>=2.2.0->nba_api) (2024.1)\n",
      "Requirement already satisfied: tzdata>=2022.7 in c:\\users\\dipak\\.conda\\envs\\env2\\lib\\site-packages (from pandas>=2.2.0->nba_api) (2023.3)\n",
      "Requirement already satisfied: charset-normalizer<4,>=2 in c:\\users\\dipak\\.conda\\envs\\env2\\lib\\site-packages (from requests<3.0.0,>=2.32.3->nba_api) (3.4.0)\n",
      "Requirement already satisfied: idna<4,>=2.5 in c:\\users\\dipak\\.conda\\envs\\env2\\lib\\site-packages (from requests<3.0.0,>=2.32.3->nba_api) (3.10)\n",
      "Requirement already satisfied: urllib3<3,>=1.21.1 in c:\\users\\dipak\\.conda\\envs\\env2\\lib\\site-packages (from requests<3.0.0,>=2.32.3->nba_api) (2.2.3)\n",
      "Requirement already satisfied: certifi>=2017.4.17 in c:\\users\\dipak\\.conda\\envs\\env2\\lib\\site-packages (from requests<3.0.0,>=2.32.3->nba_api) (2024.8.30)\n",
      "Requirement already satisfied: six>=1.5 in c:\\users\\dipak\\.conda\\envs\\env2\\lib\\site-packages (from python-dateutil>=2.8.2->pandas>=2.2.0->nba_api) (1.16.0)\n"
     ]
    }
   ],
   "source": [
    "!pip install nba_api"
   ]
  },
  {
   "cell_type": "code",
   "execution_count": 2,
   "id": "09ee9c17",
   "metadata": {},
   "outputs": [],
   "source": [
    "from nba_api.stats.static import teams\n",
    "import matplotlib.pyplot as plt"
   ]
  },
  {
   "cell_type": "code",
   "execution_count": null,
   "id": "5f5486be",
   "metadata": {},
   "outputs": [],
   "source": []
  }
 ],
 "metadata": {
  "kernelspec": {
   "display_name": "env2",
   "language": "python",
   "name": "python3"
  },
  "language_info": {
   "codemirror_mode": {
    "name": "ipython",
    "version": 3
   },
   "file_extension": ".py",
   "mimetype": "text/x-python",
   "name": "python",
   "nbconvert_exporter": "python",
   "pygments_lexer": "ipython3",
   "version": "3.12.3"
  }
 },
 "nbformat": 4,
 "nbformat_minor": 5
}
